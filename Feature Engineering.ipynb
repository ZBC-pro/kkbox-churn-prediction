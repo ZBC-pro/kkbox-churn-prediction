{
 "cells": [
  {
   "cell_type": "markdown",
   "id": "7b87fa34-4116-4ab4-bba5-838600626e1a",
   "metadata": {},
   "source": [
    "# 使用 Featuretools 进行自动化特征工程\n",
    "\n",
    "问题：我们有一组截止时间和标签——在标签时间表中——需要为每个标签构建相关特征，并且只使用截止时间之前的数据。传统上，我们会手动完成这项工作，这是一项繁琐且容易出错的过程，使得开发可用的机器学习解决方案变得非常困难。\n",
    "\n",
    "解决方案：使用 Featuretools 中实现的自动化特征工程，从关系型数据集中构建数百或数千个相关特征，并提供可重用的框架，同时自动根据截止时间过滤数据。这种方法克服了手动特征工程的局限性，让我们能够在更短的时间内构建更好的预测模型。\n",
    "\n",
    "特征工程的一般过程如下所示：\n",
    "\n",
    "![jupyter](pictures/特征工程图.PNG)\n",
    "\n",
    "目前，使用多个相关表进行自动化特征工程的唯一选择是 Featuretools，这是一个开源的 Python 库。\n",
    "\n",
    "在本笔记本中，我们将使用 Featuretools 开发一个自动化特征工程工作流，用于客户流失数据集。最终的结果是一个函数，它接收一个数据集和客户的标签时间，并构建一个特征矩阵，供训练机器学习模型使用。由于我们已经将数据分成了独立的子集（在“数据分区”部分），因此我们将能够使用 PySpark 在 Spark 中并行应用这个函数到所有分区。"
   ]
  },
  {
   "cell_type": "code",
   "execution_count": 1,
   "id": "ebfcf189-41f8-42dd-b1b7-75b1e153aae1",
   "metadata": {},
   "outputs": [],
   "source": [
    "import pandas as pd \n",
    "import numpy as np\n",
    "\n",
    "import featuretools as ft\n",
    "\n",
    "# 显示每一行的输出\n",
    "from IPython.core.interactiveshell import InteractiveShell\n",
    "InteractiveShell.ast_node_interactivity = \"all\"\n",
    "\n",
    "N_PARTITIONS = 1000"
   ]
  },
  {
   "cell_type": "code",
   "execution_count": 2,
   "id": "79cc9349-aa91-4ed5-9fb3-dc185a1602fc",
   "metadata": {},
   "outputs": [],
   "source": [
    "PARTITION = '50'\n",
    "BASE_DIR = 'data/partitions/'\n",
    "PARTITION_DIR = BASE_DIR + 'p' + PARTITION"
   ]
  },
  {
   "cell_type": "code",
   "execution_count": 3,
   "id": "650bdd09-6fb3-45bf-9920-81f7413a704e",
   "metadata": {},
   "outputs": [],
   "source": [
    "members = pd.read_csv(f'{PARTITION_DIR}/members.csv',  \n",
    "                      dtype = {'gender': 'category'})\n",
    "\n",
    "trans = pd.read_csv(f'{PARTITION_DIR}/transactions.csv',\n",
    "                   parse_dates=['transaction_date', 'membership_expire_date'])\n",
    "\n",
    "logs = pd.read_csv(f'{PARTITION_DIR}/logs.csv', parse_dates = ['date'])\n",
    "\n",
    "cutoff_times = pd.read_csv(f'{PARTITION_DIR}/MS-31_labels.csv', parse_dates = ['cutoff_time'])"
   ]
  },
  {
   "cell_type": "markdown",
   "id": "ac02d588-348a-4f96-9478-bc1a40dff900",
   "metadata": {},
   "source": [
    "这三张数据表由以下模式表示。\n",
    "\n",
    "![jupyter](../pictures/自动特征工程图.PNG)\n",
    "\n",
    "这个模式包含了在Featuretools中执行自动特征工程所需的所有领域知识。"
   ]
  },
  {
   "cell_type": "markdown",
   "id": "df723e80-4c62-4e24-a278-6a2c282a1d9a",
   "metadata": {},
   "source": [
    "# 定义实体和实体集\n",
    "\n",
    "使用Featuretools的第一步是创建一个实体集并将所有实体（表）添加到其中。实体集是一种数据结构，用于存储表格及它们之间的关系。这使得在处理多个关系表格的问题时，更容易跟踪所有的数据。"
   ]
  },
  {
   "cell_type": "code",
   "execution_count": 5,
   "id": "dda1df10-2258-4d40-9a6e-5389fa8320bf",
   "metadata": {},
   "outputs": [],
   "source": [
    "import featuretools as ft\n",
    "\n",
    "# 创建一个空的实体集\n",
    "es = ft.EntitySet(id = 'customers')"
   ]
  },
  {
   "cell_type": "markdown",
   "id": "71371484-8356-4039-a17a-00e9015a965f",
   "metadata": {},
   "source": [
    "**实体 (Entities)**\n",
    "\n",
    "在从数据帧 (dataframe) 创建实体时，我们需要确保包括：\n",
    "\n",
    "*   The ``index`` 如果存在索引或者为创建的索引指定名称。这是每个观测值的唯一标识符。\n",
    "*   ``make_index = True`` 如果没有索引，我们需要在 ``index`` 下提供一个名称并将其设置为 ``True``。\n",
    "*   ``time_index`` 如果存在。这是行中信息变得已知的时间。Featuretools 将使用 ``time_index`` 和 ``cutoff_time`` 来为每个标签创建有效的特征。\n",
    "*   ``variable_types``。 在某些情况下，我们的数据将具有变量，我们需要为其指定类型。一个例子是表示为浮点数的布尔值。 这可以防止 Featuretools 创建诸如 True/False 变量的 ``min`` 或 ``max`` 之类的特征。\n",
    "\n",
    "对于这个问题，这些是我们需要的唯一参数。 还有其他参数可以按照[文档 (documentation)](链接)中所示的方式使用。\n",
    "\n",
    "**会员表 (Members Table)**\n",
    "\n",
    "`members` 表包含每个客户的基本信息。 此表的重要一点是指定 ``city`` 和 ``registered_via`` 列是离散的分类变量而不是数值变量，并且 ``registration_init_time`` 是 ``time_index``。 ``msno`` 是标识每个客户的唯一索引。"
   ]
  },
  {
   "cell_type": "code",
   "execution_count": 6,
   "id": "1d5fcc22-c2d5-4d4b-a9c6-6e833294507d",
   "metadata": {},
   "outputs": [
    {
     "data": {
      "text/html": [
       "<div>\n",
       "<style scoped>\n",
       "    .dataframe tbody tr th:only-of-type {\n",
       "        vertical-align: middle;\n",
       "    }\n",
       "\n",
       "    .dataframe tbody tr th {\n",
       "        vertical-align: top;\n",
       "    }\n",
       "\n",
       "    .dataframe thead th {\n",
       "        text-align: right;\n",
       "    }\n",
       "</style>\n",
       "<table border=\"1\" class=\"dataframe\">\n",
       "  <thead>\n",
       "    <tr style=\"text-align: right;\">\n",
       "      <th></th>\n",
       "      <th>msno</th>\n",
       "      <th>city</th>\n",
       "      <th>bd</th>\n",
       "      <th>gender</th>\n",
       "      <th>registered_via</th>\n",
       "      <th>registration_init_time</th>\n",
       "    </tr>\n",
       "  </thead>\n",
       "  <tbody>\n",
       "    <tr>\n",
       "      <th>0</th>\n",
       "      <td>8hW4+CV3D1oNM0CIsA39YljsF8M3m7g1LAX6AQd3C8I=</td>\n",
       "      <td>4</td>\n",
       "      <td>24</td>\n",
       "      <td>male</td>\n",
       "      <td>3</td>\n",
       "      <td>20141104</td>\n",
       "    </tr>\n",
       "    <tr>\n",
       "      <th>1</th>\n",
       "      <td>yhcODfebyTYezE6KAPklcV1us9zdOYJ+7eHS7f/xgoU=</td>\n",
       "      <td>8</td>\n",
       "      <td>37</td>\n",
       "      <td>male</td>\n",
       "      <td>9</td>\n",
       "      <td>20070211</td>\n",
       "    </tr>\n",
       "    <tr>\n",
       "      <th>2</th>\n",
       "      <td>sBlgSL0AIq49XsmBQ2KceKZNUyIxT1BwSkN/xYQLGMc=</td>\n",
       "      <td>15</td>\n",
       "      <td>21</td>\n",
       "      <td>male</td>\n",
       "      <td>3</td>\n",
       "      <td>20130208</td>\n",
       "    </tr>\n",
       "    <tr>\n",
       "      <th>3</th>\n",
       "      <td>Xy3Au8sZKlEeHBQ+C7ro8Ni3X/dxgrtmx0Tt+jqM1zY=</td>\n",
       "      <td>1</td>\n",
       "      <td>0</td>\n",
       "      <td>NaN</td>\n",
       "      <td>9</td>\n",
       "      <td>20150201</td>\n",
       "    </tr>\n",
       "    <tr>\n",
       "      <th>4</th>\n",
       "      <td>NiCu2GVWgT5QZbI85oYRBEDqHUZbzz2azS48jvM+khg=</td>\n",
       "      <td>12</td>\n",
       "      <td>21</td>\n",
       "      <td>male</td>\n",
       "      <td>3</td>\n",
       "      <td>20150212</td>\n",
       "    </tr>\n",
       "  </tbody>\n",
       "</table>\n",
       "</div>"
      ],
      "text/plain": [
       "                                           msno  city  bd gender  \\\n",
       "0  8hW4+CV3D1oNM0CIsA39YljsF8M3m7g1LAX6AQd3C8I=     4  24   male   \n",
       "1  yhcODfebyTYezE6KAPklcV1us9zdOYJ+7eHS7f/xgoU=     8  37   male   \n",
       "2  sBlgSL0AIq49XsmBQ2KceKZNUyIxT1BwSkN/xYQLGMc=    15  21   male   \n",
       "3  Xy3Au8sZKlEeHBQ+C7ro8Ni3X/dxgrtmx0Tt+jqM1zY=     1   0    NaN   \n",
       "4  NiCu2GVWgT5QZbI85oYRBEDqHUZbzz2azS48jvM+khg=    12  21   male   \n",
       "\n",
       "   registered_via  registration_init_time  \n",
       "0               3                20141104  \n",
       "1               9                20070211  \n",
       "2               3                20130208  \n",
       "3               9                20150201  \n",
       "4               3                20150212  "
      ]
     },
     "execution_count": 6,
     "metadata": {},
     "output_type": "execute_result"
    }
   ],
   "source": [
    "members.head()"
   ]
  },
  {
   "cell_type": "code",
   "execution_count": 7,
   "id": "b7e2eeb6-83ec-4d6e-986d-283c3bb4af59",
   "metadata": {},
   "outputs": [
    {
     "data": {
      "text/plain": [
       "False"
      ]
     },
     "execution_count": 7,
     "metadata": {},
     "output_type": "execute_result"
    }
   ],
   "source": [
    "members['msno'].is_unique"
   ]
  },
  {
   "cell_type": "code",
   "execution_count": null,
   "id": "a06d968b-82ea-4f8c-9456-f78880595cf0",
   "metadata": {},
   "outputs": [],
   "source": []
  },
  {
   "cell_type": "code",
   "execution_count": null,
   "id": "2a8e6a9a-9622-4230-938c-4fc790ad395d",
   "metadata": {},
   "outputs": [],
   "source": []
  },
  {
   "cell_type": "code",
   "execution_count": null,
   "id": "bd432fbe-74ce-40af-a605-9be04ee69c61",
   "metadata": {},
   "outputs": [],
   "source": []
  },
  {
   "cell_type": "code",
   "execution_count": null,
   "id": "ca732b1b-0a12-4e7c-802e-e2facdb20eb1",
   "metadata": {},
   "outputs": [],
   "source": []
  },
  {
   "cell_type": "code",
   "execution_count": null,
   "id": "f8fe5c7e-b236-4696-ac1f-6c4429c0166e",
   "metadata": {},
   "outputs": [],
   "source": []
  }
 ],
 "metadata": {
  "kernelspec": {
   "display_name": "Python 3 (ipykernel)",
   "language": "python",
   "name": "python3"
  },
  "language_info": {
   "codemirror_mode": {
    "name": "ipython",
    "version": 3
   },
   "file_extension": ".py",
   "mimetype": "text/x-python",
   "name": "python",
   "nbconvert_exporter": "python",
   "pygments_lexer": "ipython3",
   "version": "3.12.4"
  }
 },
 "nbformat": 4,
 "nbformat_minor": 5
}
